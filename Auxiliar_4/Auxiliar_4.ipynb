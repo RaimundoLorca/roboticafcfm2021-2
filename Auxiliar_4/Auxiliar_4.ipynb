{
  "nbformat": 4,
  "nbformat_minor": 0,
  "metadata": {
    "colab": {
      "name": "Auxiliar_4",
      "provenance": [],
      "toc_visible": true,
      "authorship_tag": "ABX9TyO+iNshtp9wMT3vgOAsIZdU",
      "include_colab_link": true
    },
    "kernelspec": {
      "name": "python3",
      "display_name": "Python 3"
    },
    "language_info": {
      "name": "python"
    }
  },
  "cells": [
    {
      "cell_type": "markdown",
      "metadata": {
        "id": "view-in-github",
        "colab_type": "text"
      },
      "source": [
        "<a href=\"https://colab.research.google.com/github/RaimundoLorca/roboticafcfm2021-2/blob/main/Auxiliar_4/Auxiliar_4.ipynb\" target=\"_parent\"><img src=\"https://colab.research.google.com/assets/colab-badge.svg\" alt=\"Open In Colab\"/></a>"
      ]
    },
    {
      "cell_type": "markdown",
      "metadata": {
        "id": "2rmFq53t0-m_"
      },
      "source": [
        "# Auxiliar 4: Genetics Algorithms\n",
        "\n",
        "Los algoritmos genéticos (GA) son una heurística de optimización, inspirada en la evolución biológica, donde los problemas pasan a ser modelados como la simulación de una población de individuos. Durante estas simulaciones, los indiviudos son sometidos a los principios fundamentales de la Teoría de Darwin como la heredabilidad genética, la recombinación genética aleatoria (mutaciones) y la supervivencia de los más aptos (selección natural).\n",
        "\n",
        "<div align=\"center\"> <img src=\"https://raw.githubusercontent.com/cherrerab/roboticafcfm/master/auxiliar_04/bin/banner.png\" height=\"220\"> </div>\n",
        "\n",
        "En general, los algoritmos genéticos son convenientes ante problemas que no puedan ser optimizados mediante métodos tradicionales o bien, ante problemas que requieran de simulaciones de una mayor complejidad. No obstante, estos pueden ser implementados para cualquier tipo de problemas con resultados relativamente buenos.\n",
        "\n",
        "En este taller implementaremos un algoritmo genético utilizando la librería especializada `pyevolve` para resolver el problema de maximización multivariable:\n",
        "\n",
        "<div align=\"center\">$\\max f: f(x,y) = \\sin(\\frac{3\\pi}{10}x)\\sin(\\frac{3\\pi}{10}y)\\exp(\\frac{-(x-5)^2}{36})$ \n",
        "\n",
        "$0 < x,y < 10$</div>\n",
        "\n"
      ]
    },
    {
      "cell_type": "markdown",
      "metadata": {
        "id": "gIv_Awy039P2"
      },
      "source": [
        "## Pyevolve\n",
        "`Pyevolve` es una librería de código abierto desarrollada por Christian Perone que funciona como framework para la implementación de algoritmos genéticos. De esta manera, contiene funcionalidades y métodos que permiten diseñar y ejecutar GAs de forma mucho más estructurada, a la vez de mantener una flexibilidad que permite adaptarla a todo tipo de problemas. [Pyevolve documentation](http://pyevolve.sourceforge.net/)\n",
        "\n",
        "<div align=\"center\"> <img src=\"https://raw.githubusercontent.com/RaimundoLorca/roboticafcfm2021-2/main/bin/logo_pyevolve.png\" height=\"200\"> </div>\n",
        "\n",
        "Para facilitar su importación en Google Colab, la librería ha sido cargada en el GitHub del curso."
      ]
    },
    {
      "cell_type": "code",
      "metadata": {
        "id": "cqcUfuhk5PPV"
      },
      "source": [
        "!git clone https://github.com/RaimundoLorca/roboticafcfm2021-2.git\n",
        "%cd /content/roboticafcfm2021-2"
      ],
      "execution_count": null,
      "outputs": []
    },
    {
      "cell_type": "markdown",
      "metadata": {
        "id": "ujwKJrdj5c0g"
      },
      "source": [
        "## Genoma\n",
        "\n",
        "Durante el desarrollo de los algoritmos genéticos, se adoptó una nomenclatura donde cada uno de los conceptos y componentes del problema se corresponden con un término de la teoría de la evolución. En particular, sea $X$ el espacio de búsqueda del problema a optimizar, para modelarlo mediante un GA se debe definir un espacio artificial $S$, tal que existe una función:\n",
        "\n",
        "<div align=\"center\">$d: S \\rightarrow X$\n",
        "\n",
        "$s \\rightarrow d(s) = x$ </div>\n",
        "\n",
        "Donde entonces, $S$ se conoce como `genotipo` y $X$ como `fenotipo`. Así, un $s$ vendría siendo un representación codificada de un $x$ del problema original, tal como nuestro ADN es una codificación de nuestro cuerpo.\n",
        "\n",
        "<div align=center> <img src=\"https://raw.githubusercontent.com/cherrerab/roboticafcfm/master/auxiliar_04/bin/nomlencatura.png\" width=\"500\"> </div>\n",
        "\n",
        "En el caso particular del problema que estamos estudiando, dado que es el espacio de busqueda $X$ es el espacio $\\mathbb{R}^2$, el `genotipo` es bastante directo. De este modo, nuestros individuos o `cromosomas` corresponderán a listas de 2 valores `np.float32` entre 0.0 y 10.0. Para esto, `pyevolve` cuenta con el genoma o módulo de representación `pyevolve.G1DList` que configuraremos a continuación."
      ]
    },
    {
      "cell_type": "code",
      "metadata": {
        "id": "zR7GaTHdSpiG"
      },
      "source": [
        "from pyevolve import G1DList\n",
        "\n",
        "# Configurar genoma mediante G1DList.G1DList\n",
        "# esta función recibe la cantidad de elementos del genoma\n",
        "# http://pyevolve.sourceforge.net/module_g1dlist.html\n",
        "genome = G1DList.G1DList( size= )\n",
        "\n",
        "# Dado que tanto x como y están acotados entre 0.0 y 10.0\n",
        "# debemos configurar estos límites mediante G1DList.setParams\n",
        "genome.setParams(rangemin=, rangemax=)"
      ],
      "execution_count": null,
      "outputs": []
    },
    {
      "cell_type": "markdown",
      "metadata": {
        "id": "4qGdm9fJTjMS"
      },
      "source": [
        "## Fitness\n",
        "\n",
        "Sea $f$ la función objetivo que se desea optimizar dentro del espacio de busqueda $X$. Entonces se debe definir una función $\\hat{f}$,\n",
        "\n",
        "<div align=\"center\"> $\\hat{f}: S \\rightarrow \\mathbb{R}$\n",
        "\n",
        "$\\hat{f}(s) \\propto f(x)$ </div>\n",
        "\n",
        "que determina el `fitness` del cromosoma o individuo $s$. Así, la función de `fitness` se encarga de evaluar que tan \"bueno\" es cada cromosoma en la población y le asigna un valor numérico correspondiente. De este modo, mientras mejor sea un individuo mayor será su fitness. En general, se debe definir la función $\\hat{f}$ tal que el `fitness` sea siempre positivo, nunca se indetermine y sea creciente.\n",
        "\n",
        "Nuevamente, dada la simplicidad del problema que estamos estudiando, es directo que nuestra función de fitness es una evaluación directa de la función que queremos maximizar:\n",
        "\n",
        "<div align=\"center\"> $f(x,y) = \\sin(\\frac{3\\pi}{10}x)\\sin(\\frac{3\\pi}{10}y)\\exp(\\frac{-(x-5)^2}{36})$ </div>"
      ]
    },
    {
      "cell_type": "code",
      "metadata": {
        "id": "hJYgcpwpUj25"
      },
      "source": [
        "import numpy as np\n",
        "\n",
        "def eval_fitness(chromosome):\n",
        "  \"\"\"\n",
        "\t-> float\n",
        "\n",
        "\tLa función de fitness se encarga de evaluar que tan bueno es el individuo y\n",
        "\tle asigna el valor numérico correspondiente, mientras mejor sea el individuo,\n",
        "\tmayor será su fitness.\n",
        "\tEn este caso, el fitness consiste a la evaluación de la función f(x,y).\n",
        "\n",
        "\t:param list chromosome: lista que contiene los valores x, y del individuo.\n",
        "\n",
        "\t:return: valor de su fitness.\n",
        "\t\"\"\"\n",
        "\n",
        "  # Extraer valores (x, y) de chromosome que sigue la estructura G1DList\n",
        "  # previamente definida\n",
        "  x, y = \n",
        "\n",
        "  # Calcular fitness f(x, y)\n",
        "  f = np.sin(x*3*np.pi/10)*np.sin(y*3*np.pi/10)*np.exp(-((x - 5)**2)/36)\n",
        "\n",
        "  # Sumaremos 5.0 a este valor tal que el fitness sea siempre positivo.\n",
        "  fitness = \n",
        "\n",
        "  return fitness\n",
        "\n",
        "# set función de fitness\n",
        "genome.evaluator.set(  )"
      ],
      "execution_count": null,
      "outputs": []
    },
    {
      "cell_type": "markdown",
      "metadata": {
        "id": "zqSpE8ZfV7f2"
      },
      "source": [
        "## Initilizator\n",
        "\n",
        "Para comenzar el algoritmo genético y dar paso a esta evolución artificial, es necesario primero contar con una población inicial de individuos. En términos simples, esta población no es más que una lista que contiene los cromosomas $s$ de la primera generación del GA que irán dando paso a las próximas generaciones. No obstante, es importante definir la forma en que esta primera generación será creada, ya sea de manera aleatoria o homogénea, pues esta podría tener una influencia importante en la convergencia del algoritmo y en su resultado.\n",
        "\n",
        "Para la implementación de este problema no nos complicaremos y simplemente utilizaremos uno de los métodos predifinidos en `pyevolve.Initializators`. En particular, `pyevolve.Initializators.G1DListInitializatorReal` generará la población a partir de valores reales random dentro del rango definido para el genoma. [Initialization methods module](http://pyevolve.sourceforge.net/module_initializators.html)"
      ]
    },
    {
      "cell_type": "code",
      "metadata": {
        "id": "u9YgXmI3WU01"
      },
      "source": [
        "from pyevolve import Initializators\n",
        "\n",
        "# Set método de inicialización Initializators.G1DListInitializatorReal\n",
        "genome.initializator.set(  )"
      ],
      "execution_count": null,
      "outputs": []
    },
    {
      "cell_type": "markdown",
      "metadata": {
        "id": "ybkfNxtoWmHW"
      },
      "source": [
        "## Crossover\n",
        "\n",
        "El `Crossover` consiste en el método en que se implementa la heredabilidad genética dentro del algoritmo genético. En este sentido, consiste en un algoritmo que a partir de dos cromosomas ($s_{1}$, $s_{2}$) combina su información genética para crear uno o más nuevos individuos que serán parte de la próxima generación de la población.\n",
        "\n",
        "Un cruzamiento posible para este problema es que los cromosomas hijos consistan en el promedio de los valores ($x$, $y$) de los padres. No obstante, `pyevolve` cuenta con una serie de métodos de crossover en el módulo `pyevolve.Crossovers`. [Crossover methods module](http://pyevolve.sourceforge.net/module_crossovers.html)\n",
        "\n",
        "<div align=\"center\"> <img src=\"https://raw.githubusercontent.com/cherrerab/roboticafcfm/master/auxiliar_04/bin/cruzamiento.png\" height=\"150\"> </div>"
      ]
    },
    {
      "cell_type": "code",
      "metadata": {
        "id": "b3Kd0_0OLINZ"
      },
      "source": [
        "from pyevolve import Crossovers\n",
        "\n",
        "def G1DListCrossoverAverage(genome, **kargs):\n",
        "  \"\"\"\n",
        "  -> G1DList, G1DList\n",
        "\n",
        "  The G1DList Average Crossover\n",
        "  función de cruzamiento que retorna el promedio de los valores\n",
        "  de los padres.\n",
        "\n",
        "  :returns: par de cromosomas producto del cruzamiento\n",
        "  \"\"\"\n",
        "  # Establecer cromosomas padres\n",
        "  gMom = kargs[\"mom\"]\n",
        "  gDad = kargs[\"dad\"]\n",
        "\n",
        "  # Inicializar cromosomas hijos\n",
        "  sister = gMom.clone()\n",
        "  brother = gDad.clone()\n",
        "\n",
        "  sister.resetStats()\n",
        "  brother.resetStats()\n",
        "\n",
        "  # Por cada gen del cromosoma\n",
        "  for i in range( len(gMom) ):\n",
        "\n",
        "    # Calcular promedio gMom y gDad\n",
        "    sister[i] = \n",
        "    brother[i] = \n",
        "\n",
        "  return (sister, brother)\n",
        "\n",
        "# Set método de cruzamiento\n",
        "genome.crossover.set(  )"
      ],
      "execution_count": null,
      "outputs": []
    },
    {
      "cell_type": "markdown",
      "metadata": {
        "id": "tLFCCQa2Lb9-"
      },
      "source": [
        "## Mutator\n",
        "\n",
        "Del mismo modo que el cruzamiento consiste en la adaptación de la heredabilidad genética, el `Mutator` es la implementación de la variabilidad genética en el GA. La importación de la mutación en el GA es que permite la aparición de nuevos genes o cromosomas en la población, lo que a su vez permite recorrer el espacio artifical $S$ sin que la población ni el fitness caiga en una convergencia prematura.\n",
        "\n",
        "`Pyevolve` también cuenta con el módulo `pyevolve.Mutators` que contiene varios métodos de mutación listos para utilizar. Para este problema utilizaremos el método `pyevolve.Mutators.G1DListMutatorRealRange` para alterar los valores ($x$, $y$) de forma aleatoria dentro del rango numérico definido para el genóma. [Mutation methods module](http://pyevolve.sourceforge.net/module_mutators.html)"
      ]
    },
    {
      "cell_type": "code",
      "metadata": {
        "id": "O7dfmDFnL0LB"
      },
      "source": [
        "from pyevolve import Mutators\n",
        "\n",
        "# Set método de mutación Mutators.G1DListMutatorRealRange\n",
        "genome.mutator.set(  )"
      ],
      "execution_count": null,
      "outputs": []
    },
    {
      "cell_type": "markdown",
      "metadata": {
        "id": "BdlskLS8L4Ze"
      },
      "source": [
        "## Selector\n",
        "\n",
        "Ahora damos paso a problamente la etapa más importante dentro de un GA, la selección. Una vez calculado los `fitness` de todos los individuos dentro de la población, del mismo modo que la selección natural en la teoría de Darwin, el algoritmo `Selector` irá seleccionando a los individuos con mayor fitness para generar la siguiente generación. De esta manera, es esta etapa la que posibilita que la optimización ocurra en el GA.\n",
        "\n",
        "Existen muchas maneras de realizar la selección en un algoritmo genético y las más comunes ya se encuentran implementadas en `pyevolve`. Para este problema utilizaremos la selección por ruleta implementada en `Selectors.GRouletteWheel`. En este método, la probabilidad de que un cromosoma sea seleccionado para cruzamiento es proporcional a su `fitness`, de este modo, aquellos individuos con mayor fitness tendrán más chance de transmitir su información genética a la próxima generación. [Selection methods module](http://pyevolve.sourceforge.net/module_selectors.html)\n",
        "\n",
        "<div align=\"center\"> <img src=\"https://raw.githubusercontent.com/cherrerab/roboticafcfm/master/auxiliar_04/bin/seleccion.png\" width=\"400\"> </div>"
      ]
    },
    {
      "cell_type": "code",
      "metadata": {
        "id": "FzuEv-u_NCp3"
      },
      "source": [
        "from pyevolve import GSimpleGA\n",
        "from pyevolve import Selectors\n",
        "\n",
        "# Comenzaremos por configurar el algoritmo genético\n",
        "# utilizaremos el Engine GSimpleGA que se encargará de ejecutar\n",
        "# el proceso evolutivo en cada generación.\n",
        "# http://pyevolve.sourceforge.net/module_gsimplega.html\n",
        "GA_RUN = GSimpleGA.GSimpleGA(genome)\n",
        "\n",
        "# Set método de selección Selectors.GRouletteWheel\n",
        "GA_RUN.selector.set(  )"
      ],
      "execution_count": null,
      "outputs": []
    },
    {
      "cell_type": "markdown",
      "metadata": {
        "id": "DWFL7kQ6NNAb"
      },
      "source": [
        "## Run GA\n",
        "\n",
        "Finalmente podemos ejecutar el algoritmo genético para maximizar nuestra función objetivo. Como ya se mencionó, la ejecución es llevada a cabo por el engine `GSimpleGA`, sin embargo, nos falta por configurar la cantidad de individuos en la población, las probabilidades de que ocurra cruzamiento y mutación, y por supuesto, la cantidad de generaciones que durará la ejecución."
      ]
    },
    {
      "cell_type": "code",
      "metadata": {
        "id": "9fogd_ylO6_I"
      },
      "source": [
        "# Set tamaño de la población de individuos\n",
        "GA_RUN.setPopulationSize(  )\n",
        "\n",
        "# Set probabilidades de cruzamiento y mutación\n",
        "GA_RUN.setCrossoverRate(  )\n",
        "GA_RUN.setMutationRate(  )\n",
        "\n",
        "# Set cantidad de generaciones a ejecutar\n",
        "GA_RUN.setGenerations(  )\n",
        "\n",
        "# Ejecutar algoritmo genético\n",
        "GA_RUN.evolve()"
      ],
      "execution_count": null,
      "outputs": []
    },
    {
      "cell_type": "markdown",
      "metadata": {
        "id": "5J6YgZbIPB0r"
      },
      "source": [
        "Este resultado, nos entrega un resumen del algoritmo genético. En particular, nos entrega la lista del individuo con el mayor `fitness` correspondiente al punto (5.00, 5.00). Podemos extraer este individuo de la población mediante el método `GSimpleGA.bestIndividual()` y luego procesar su información."
      ]
    },
    {
      "cell_type": "code",
      "metadata": {
        "id": "NojHgT4gPG7H"
      },
      "source": [
        "# Obtener mejor cromosoma/individuo\n",
        "bestIndividual = GA_RUN.bestIndividual()\n",
        "\n",
        "# Podemos acceder a los atributos del cromosoma mediante\n",
        "# los métodos de la clase G1DList\n",
        "# http://pyevolve.sourceforge.net/module_g1dlist.html\n",
        "BEST_FITNESS = bestIndividual.getFitnessScore()\n",
        "BEST_SCORE = bestIndividual.getRawScore()\n",
        "BEST_GENOME = bestIndividual.getInternalList()\n",
        "\n",
        "# Display resultados\n",
        "print('Generation: {:d}'.format(200))\n",
        "print('Best genome: ', BEST_GENOME)\n",
        "print('     score: {:2.3}'.format(BEST_SCORE))\n",
        "print('     fitness: {:2.3}'.format(BEST_FITNESS))\n",
        "print('     f(x,y): {:2.3}'.format(BEST_SCORE - 5.0))"
      ],
      "execution_count": null,
      "outputs": []
    },
    {
      "cell_type": "markdown",
      "metadata": {
        "id": "lycx0zrkPbzK"
      },
      "source": [
        "## Callbacks\n",
        "\n",
        "A veces podría interesarnos monitorear el avance del GA a medida que este avanza en las generaciones. Por suerte el engine `GSimpleGA` acepta el uso de `Callbacks` en su implementación mediante `GSimpleGA.stepCallback.set`. Los `Callbacks` son funciones o algoritmos que serán ejecutadas al finalizar cada generación. De esta manera, pueden usarse para registrar el progreso del GA, analizar la convergenciá del fitness o bien, como haremos para este para este problema, visualizar la evolución de la población. "
      ]
    },
    {
      "cell_type": "code",
      "metadata": {
        "id": "zKiOiRI_Pc9z"
      },
      "source": [
        "import matplotlib.pyplot as plt\n",
        "from mpl_toolkits.mplot3d import Axes3D\n",
        "\n",
        "def Plot3DCallback(GA_ENGINE):\n",
        "  \"\"\"\n",
        "  función de callback que generar un plot 3D de la población en el espacio\n",
        "  de busqueda determinado por la función f(x,y).\n",
        "  \"\"\"\n",
        "  # obtener generación actual\n",
        "  # solo se graficará cada 5 generaciones\n",
        "  if GA_ENGINE.getCurrentGeneration()%5 != 0:\n",
        "    return None\n",
        "\n",
        "  # definir límites del espacio cartesiano X, Y\n",
        "  res = 256\n",
        "  X = np.linspace(0.0, 10.0, res)\n",
        "  Y = np.linspace(0.0, 10.0, res)\n",
        "  Z = np.zeros( (res, res) )\n",
        "\n",
        "  # para cado punto x, y en el espacio\n",
        "  for i in range(res):\n",
        "    for j in range(res):\n",
        "      # valores x, y\n",
        "      x, y = X[i], Y[j]\n",
        "\n",
        "      # evaluar función\n",
        "      Z[j, i] = np.sin(x*3*np.pi/10)*np.sin(y*3*np.pi/10)*np.exp(-((x - 5)**2)/36)\n",
        "\n",
        "  # visualizar superficie de la función\n",
        "  X, Y = np.meshgrid(X, Y)\n",
        "\n",
        "  fig = plt.figure( figsize=(8,8) )\n",
        "  ax = fig.gca(projection='3d')\n",
        "\n",
        "  ax.contour(X, Y, Z, 50, cmap='jet')\n",
        "  ax.set_xlabel('X'); ax.set_ylabel('Y')\n",
        "\n",
        "  # ----------------------------------------------------------------------------\n",
        "  # agregar población al gráfico\n",
        "  POPULATION = GA_RUN.getPopulation().internalPop\n",
        "  for indiv in POPULATION:\n",
        "    chromosome = indiv.getInternalList()\n",
        "    x, y = chromosome\n",
        "    z = indiv.getRawScore() - 5.0\n",
        "\n",
        "    ax.scatter(x, y, z, c='b', s=70)\n",
        "\n",
        "  return None"
      ],
      "execution_count": null,
      "outputs": []
    },
    {
      "cell_type": "code",
      "metadata": {
        "id": "2oxP5EPrPiWJ"
      },
      "source": [
        "from pyevolve import GSimpleGA\n",
        "from pyevolve import Selectors\n",
        "\n",
        "# configurar el algoritmo genético\n",
        "GA_RUN = GSimpleGA.GSimpleGA(genome)\n",
        "\n",
        "# set método de selección Selectors.GRouletteWheel\n",
        "GA_RUN.selector.set( Selectors.GRouletteWheel )\n",
        "\n",
        "# set tamaño de la población de individuos\n",
        "GA_RUN.setPopulationSize( 100 )\n",
        "\n",
        "# set probabilidades de cruzamiento y mutación\n",
        "GA_RUN.setCrossoverRate( 0.5 )\n",
        "GA_RUN.setMutationRate( 0.05 )\n",
        "\n",
        "# set cantidad de generaciones a ejecutar\n",
        "GA_RUN.setGenerations( 35 )\n",
        "\n",
        "# set stepCallback\n",
        "GA_RUN.stepCallback.set( Plot3DCallback )\n",
        "\n",
        "# ejecutar algoritmo genético\n",
        "_ = GA_RUN.evolve()\n",
        "\n",
        "# ---\n",
        "# obtener mejor cromosoma/individuo\n",
        "bestIndividual = GA_RUN.bestIndividual()\n",
        "\n",
        "BEST_FITNESS = bestIndividual.getFitnessScore()\n",
        "BEST_SCORE = bestIndividual.getRawScore()\n",
        "BEST_GENOME = bestIndividual.getInternalList()\n",
        "\n",
        "# display resultados\n",
        "print('Generation: {:d}'.format(35))\n",
        "print('Best genome: ', BEST_GENOME)\n",
        "print('     score: {:2.3}'.format(BEST_SCORE))\n",
        "print('     fitness: {:2.3}'.format(BEST_FITNESS))\n",
        "print('     f(x,y): {:2.3}'.format(BEST_SCORE - 5.0))"
      ],
      "execution_count": null,
      "outputs": []
    }
  ]
}