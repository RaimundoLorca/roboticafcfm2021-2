{
  "nbformat": 4,
  "nbformat_minor": 0,
  "metadata": {
    "colab": {
      "name": "Auxiliar_7_Pauta.ipynb",
      "provenance": [],
      "toc_visible": true,
      "include_colab_link": true
    },
    "kernelspec": {
      "name": "python3",
      "display_name": "Python 3"
    },
    "accelerator": "GPU"
  },
  "cells": [
    {
      "cell_type": "markdown",
      "metadata": {
        "id": "view-in-github",
        "colab_type": "text"
      },
      "source": [
        "<a href=\"https://colab.research.google.com/github/RaimundoLorca/roboticafcfm2021-2/blob/main/Auxiliar_7/Auxiliar_7_Pauta.ipynb\" target=\"_parent\"><img src=\"https://colab.research.google.com/assets/colab-badge.svg\" alt=\"Open In Colab\"/></a>"
      ]
    },
    {
      "cell_type": "markdown",
      "metadata": {
        "id": "wRu6GzVgbQP7"
      },
      "source": [
        "# Auxiliar 7: Convolutional Neural Networks\n",
        "<img src=\"https://raw.githubusercontent.com/cherrerab/roboticafcfm/master/auxiliar_07/feature_maps.png\" width=\"800\">\n",
        "\n",
        "Las Redes Neuronales Convolucionales (CNN) consisten en arquitecturas muy similares a las redes `Dense` o Fully Connected vistas en la auxiliar anterior, pues estás también se constituyen de de nodos con parámetros entrenables, como son los pesos y biases encargados de ponderar la información de entrada o `input.`\n",
        "\n",
        "No obstante, la estructura de las Redes Convolucionales está diseñada particularmente para interpretar imágenes y aprender, durante su entrenamiento, a extraer patrones y características espaciales (`features`) de estas mediante la aplicación secuencial de filtros. En este sentido, este tipo de modelos han probado desempeñarse bastante bien en tareas de visión computacional, tales como reconocimiento y clasificación de objetos en imágenes, siendo esta eficacia una de las principales razones del reconocimiento del potencial del Deep Learning en las últimas décadas.\n",
        "\n",
        "![animation](https://miro.medium.com/max/1200/1*QPRC1lcfYxcWWPAC2hrQgg.gif \"animation\")\n",
        "\n",
        "A diferencia de las capas `Dense`, las capas `Convolucionales` en realidad se componen de filtros similares a los vistos en el primer capitulo de visión computacional del curso. De este modo, los pesos de la red pasan a ser estructurados como los parámetros que definen el `kernel` del filtro. Durante el procesamiento de la imágen al interior de la red, los filtros de cada capa van generando nuevas imágenes (`feature maps`), con la finalidad de ir segmentando las `features` principales que permiten aislar la información importante de los datos.\n",
        "\n",
        "<img src=\"https://raw.githubusercontent.com/cherrerab/roboticafcfm/master/auxiliar_07/filtro_diagram.png\" height=\"200\">\n",
        "\n",
        "Con la finalidad de introducir la implementación de este tipo de arquitecturas en `Tensorflow` estudiaremos un caso de regresión simple, en donde entrenaremos un modelo CNN para detectar la posición $(x, z)$ de una esfera en un espacio tridimensional.\n",
        "\n",
        "<img src=\"https://raw.githubusercontent.com/cherrerab/deeplearningfallas/master/workshop_02/bin/tensorflow.png\" width=\"400\">\n",
        "\n",
        "`TensorFlow`, en términos generales, consiste en un framework diseñado para desarrollar e implementar algoritmos de Machine Learning, y por supuesto, entre ellos, modelos de Deep Learning. Una de las particulares de este framework es que ofrece toda una gama de niveles de abstracción, desde el desarrollo de modelos de mayor complejidad mediante herramientas `low-level`, hasta la compilación y el entrenamiento de arquitecturas mediante estructuras `high-level`, como la API Keras.\n",
        "\n",
        "Puede encontrar la documentación de estas librerías en los siguientes links:\n",
        "- https://www.tensorflow.org/api_docs/python/\n",
        "- https://keras.io/api/\n",
        "\n",
        "\n",
        "\n"
      ]
    },
    {
      "cell_type": "code",
      "metadata": {
        "id": "eIgVTEjm3hVG"
      },
      "source": [
        "!git clone https://github.com/RaimundoLorca/roboticafcfm2021-2.git\n",
        "%cd /content/roboticafcfm2021-2"
      ],
      "execution_count": null,
      "outputs": []
    },
    {
      "cell_type": "markdown",
      "metadata": {
        "id": "OF1NTCH2vuNP"
      },
      "source": [
        "## Ray Tracing Dataset\n",
        "\n",
        "El Ray Tracing consiste en un algoritmo de renderizado de imágenes que desempeña la tarea de calcular el camino de la luz como píxeles en un plano de la imagen y simular sus efectos sobre las superficies virtuales en las que incide. En este caso, trabajaremos con un dataset que contiene imágenes de esferas en un espacio 3D y se utilizara CNN para estimar la posición de la esfera en el plano **(x,z)**\n",
        "\n",
        "\n",
        "<img src=\"https://raw.githubusercontent.com/cherrerab/roboticafcfm/master/auxiliar_07/spheres_examples.png\" height=\"200\">\n",
        "\n",
        "De este modo, utilizaremos este programa para generar una serie de imágenes (`samples`) de `128x128px` que contengan una esfera en distintas posiciones en el espacio. Para ahorrar tiempo y concentrarnos en el desarrollo del modelo, este proceso ya ha sido realizado y el dataset `CNN_dataset_128px.npz` correspondiente ha sido cargado a un Google Drive."
      ]
    },
    {
      "cell_type": "code",
      "metadata": {
        "id": "N0UAuLiFbBBG"
      },
      "source": [
        "!pip install -U -q PyDrive\n",
        "\n",
        "import os\n",
        "from pydrive.auth import GoogleAuth\n",
        "from pydrive.drive import GoogleDrive\n",
        "from google.colab import auth\n",
        "from oauth2client.client import GoogleCredentials\n",
        "\n",
        "# inicializar GoogleDrive con credenciales de autorización\n",
        "auth.authenticate_user()\n",
        "gauth = GoogleAuth()\n",
        "gauth.credentials = GoogleCredentials.get_application_default()\n",
        "drive = GoogleDrive(gauth)\n",
        "\n",
        "# crear carpeta para descargar los archivos .npz\n",
        "!mkdir /content/datasets\n",
        "\n",
        "# Google Drive IDs para descargar los archivos .npz\n",
        "files_id = [('CNN_dataset_128px.npz', '1nDDvUBunpRJpTzGaQgdeRVmBTbCxa3bJ')]\n",
        "\n",
        "# comenzar descarga\n",
        "print('descargando datasets: ', end='')\n",
        "\n",
        "for filename, id in files_id:\n",
        "  save_path = os.path.join('/content/datasets', filename)\n",
        "\n",
        "  # descargar y guardar en /content/datasets\n",
        "  downloaded = drive.CreateFile({'id': id}) \n",
        "  downloaded.GetContentFile(save_path)\n",
        "\n",
        "# indicar descarga terminada\n",
        "print('done')"
      ],
      "execution_count": null,
      "outputs": []
    },
    {
      "cell_type": "markdown",
      "metadata": {
        "id": "SMC8t7t1zNvc"
      },
      "source": [
        "Podemos cargar este archivo mediante `np.load()` y explorar las estructuras y datos que contiene."
      ]
    },
    {
      "cell_type": "code",
      "metadata": {
        "id": "sMQPOFQozG30"
      },
      "source": [
        "import numpy as np\n",
        "import matplotlib.pyplot as plt\n",
        "\n",
        "# ---\n",
        "# cargar archivo CNN_dataset_128px.npz\n",
        "dataset = np.load('/content/datasets/CNN_dataset_128px.npz', allow_pickle=True)\n",
        "\n",
        "# print keys del dataset\n",
        "print('dataset.keys: ',  list( dataset.keys() ) )\n",
        "\n",
        "# ---\n",
        "# extraer conjuntos de imágenes y normalizar en [0., 1.]\n",
        "X = dataset['X']\n",
        "X = np.float32( X/255.0 )\n",
        "\n",
        "# extraer conjunto de posiciones (x, z)\n",
        "Y = dataset['Y']\n",
        "\n",
        "# ---\n",
        "# visualizar muestra del dataset\n",
        "sample_idx = np.random.choice( np.arange(X.shape[0]), 5 )\n",
        "img_sample = [ X[i, :, :, :].reshape( (128, 128, 3) ) for i in sample_idx ]\n",
        "img_sample = np.hstack(img_sample)\n",
        "\n",
        "plt.figure( figsize=(12, 12) )\n",
        "plt.imshow(img_sample)\n",
        "\n",
        "print('Y:\\n', Y[sample_idx, :])"
      ],
      "execution_count": null,
      "outputs": []
    },
    {
      "cell_type": "markdown",
      "metadata": {
        "id": "OZ_lR7X_0Iob"
      },
      "source": [
        "---\n",
        "## Data Splitting\n",
        "\n",
        "Análogamente al caso estudiado en el workshop anterior, teniendo ya el dataset para el entrenamiento de la red neuronal, se debe dividir este en dos sets: uno de entrenamiento (`training set`) y otro de testing (`testing set`). El primero es utilizado, como su nombre lo indica, en el entrenamiento de la red neuronal, mientras que el segundo es utilizado para evaluar el desempeño del modelo ya entrenado.\n",
        "\n",
        "El `data splitting` se puede lograr con el bloque de código a continuación, mediante la función `train_test_split` de `sklearn`.\n",
        "- https://scikit-learn.org/stable/modules/generated/sklearn.model_selection.train_test_split.html"
      ]
    },
    {
      "cell_type": "code",
      "metadata": {
        "id": "qa43Krjc0lkj"
      },
      "source": [
        "# importar librerías\n",
        "from sklearn.model_selection import train_test_split\n",
        "\n",
        "# ---\n",
        "# generar sets de datos de training y testing\n",
        "# la varibale test_size permite controlar la proporción entre los datos de testing y training.\n",
        "X_train, X_test, Y_train, Y_test = train_test_split(X, Y, test_size = 0.2)\n",
        "\n",
        "# adicionalmente generaremos un conjunto de validación\n",
        "# este conjunto será utilizado para monitorear la generalización del modelo\n",
        "# durante el entrenamiento, sin utilizar el conjunto de testing.\n",
        "X_train, X_val, Y_train, Y_val = train_test_split(X_train, Y_train, test_size = 0.2)\n",
        "\n",
        "# print sample distribution\n",
        "print( 'train split: {:d} samples'.format(X_train.shape[0]) )\n",
        "print( '\\nvalidation split: {:d} samples'.format(X_val.shape[0]) )\n",
        "print( '\\ntesting split: {:d} samples'.format(X_test.shape[0]) )"
      ],
      "execution_count": null,
      "outputs": []
    },
    {
      "cell_type": "markdown",
      "metadata": {
        "id": "zO96UZZf1lMb"
      },
      "source": [
        "---\n",
        "# Model Building\n",
        "\n",
        "Para configurar nuestro modelo de regresión utilizaremos nuevamente la librería `keras` o `tf.keras`. Como ya introducimos en el workshop anterior, Keras es una API de alto nivel para la creación y el entrenamiento de modelos de deep learning. Está orientada y diseñada para la construcción de modelos de forma modular o en bloques. De este modo, ofrece un framework mucho más amigable e intuitivo para principiantes, a la vez que mantiene un estructura personalizable y versátil que permite a usuarios más avanzados incorporar nuevas ideas.\n",
        "\n",
        "<img src=\"https://raw.githubusercontent.com/cherrerab/deeplearningfallas/master/workshop_02/bin/keras_logo.png\" width=\"400\">\n"
      ]
    },
    {
      "cell_type": "markdown",
      "metadata": {
        "id": "ukR_M6UE10OD"
      },
      "source": [
        "## Model Setup\n",
        "\n",
        "Dado que en este caso nuestros datos o `samples` consisten en imágenes a color en RGB, implementaremos una red neuronal convolucional de regresión (CNN) para procesar las imágenes sin perder la bidimensionalidad de su información.\n",
        "\n",
        "Por lo general, los modelos CNN se componen de series de capas `keras.layers.Conv2D` junto con algún tipo de Pooling Layer, como las `keras.layers.MaxPool2D` o las `keras.layers.AveragePooling2D`. \n",
        "\n",
        "- https://keras.io/api/layers/convolution_layers/convolution2d/\n",
        "- https://keras.io/api/layers/pooling_layers/\n",
        "\n",
        "El propósito de las Pooling Layers es realizar un `down-sampling` de los `feature maps` generados por las capas `Conv2D` y de este modo, reducir significativamente la dimensionalidad de la información a medida que esta avanza en el modelo y alcanza mayores grados de abstracción.\n",
        "\n",
        "<img src=\"https://raw.githubusercontent.com/cherrerab/roboticafcfm/master/auxiliar_07/CNN_diagram.png\" height=\"200\">\n",
        "\n",
        "Finalmente, para completar el modelo es necesario unir la información de los `feature maps` con la capa de salida `linear` que entregará las predicciones de la posición de las esferas. Para llevar esto a cabo, el tensor de los `feature maps` es vectorizado o aplanado en una sola dimensión mediante un `keras.layers.Flatten` para luego continuar con una serie de capas `keras.layers.Dense` que se encargan de terminar el procesamiento de la información."
      ]
    },
    {
      "cell_type": "code",
      "metadata": {
        "id": "hCTB93K32qUz"
      },
      "source": [
        "import keras\n",
        "from keras.models import Sequential\n",
        "from keras.layers import Input\n",
        "from keras.layers import Dense\n",
        "from keras.layers import Conv2D\n",
        "from keras.layers import Dropout\n",
        "from keras.layers import Flatten\n",
        "from keras.layers import MaxPooling2D\n",
        "from keras.layers import AveragePooling2D\n",
        "\n",
        "# inicializar modelo keras.Sequential\n",
        "model = Sequential()\n",
        "\n",
        "# ---\n",
        "# primero debemos agregar nuestra capa Input donde debemos especificar\n",
        "# las dimensiones de los datos que se ingresarán al modelo\n",
        "# las capas Conv2D reciben tensores de la forma (height, width, channels)\n",
        "input_dim = ( 128, 128, 3)\n",
        "model.add( Input( shape=input_dim ) )\n",
        "\n",
        "# ---\n",
        "# ahora debemos ir agregando nuestras capas Conv2D y Pooling.\n",
        "\n",
        "# las keras.layers.Conv2D reciben la cantidad de filtros dentro de la capa,\n",
        "# el tamaño de estos filtros y la función de activación con que operarán.\n",
        "# https://keras.io/api/layers/convolution_layers/convolution2d/\n",
        "\n",
        "# las keras.layers.MaxPooling2D reciben el tamaño de la ventana sobre\n",
        "# la cual llevarán a cabo el down-sampling\n",
        "# https://keras.io/api/layers/pooling_layers/max_pooling2d/\n",
        "\n",
        "model.add( Conv2D(32, (5, 5), activation='relu', padding='same' ) )\n",
        "model.add( Conv2D(32, (5, 5), activation='relu', padding='same' ) )\n",
        "\n",
        "model.add( MaxPooling2D( pool_size=(2, 2) ) )\n",
        "\n",
        "model.add( Conv2D(64, (5, 5), activation='relu', padding='same' ) )\n",
        "model.add( Conv2D(64, (5, 5), activation='relu', padding='same' ) )\n",
        "\n",
        "model.add( MaxPooling2D( pool_size=(2, 2) ) )\n",
        "\n",
        "model.add( Conv2D(32, (5, 5), activation='relu', padding='same' ) )\n",
        "model.add( Conv2D(32, (5, 5), activation='relu', padding='same' ) )\n",
        "\n",
        "model.add( MaxPooling2D( pool_size=(2, 2) ) )\n",
        "\n",
        "model.add( Conv2D(16, (5, 5), activation='relu', padding='same' ) )\n",
        "model.add( Conv2D(16, (5, 5), activation='relu', padding='same' ) )\n",
        "\n",
        "model.add( MaxPooling2D( pool_size=(2, 2) ) )\n",
        "\n",
        "# ---\n",
        "# ahora debemos ir agregando nuestras capas Dense para procesar la\n",
        "# información hasta la capa de salida.\n",
        "# https://keras.io/api/layers/core_layers/dense/\n",
        "\n",
        "model.add( Flatten() )\n",
        "\n",
        "model.add( Dense(units=256, activation='relu') )\n",
        "model.add( Dense(units=128, activation='relu') )\n",
        "model.add( Dense(units=64, activation='relu') )\n",
        "model.add( Dense(units=32, activation='relu') )\n",
        "\n",
        "# ---\n",
        "# por último debemos configurar nuestra capa de salida\n",
        "# dado que el modelo consiste en uno de regresión emplearemos\n",
        "# la función linear, donde cada nodo indicará la predicción de posición\n",
        "# de la esfera correspondiente.\n",
        "labels_num = 2\n",
        "model.add( Dense(units=labels_num, activation='linear') )\n",
        "\n",
        "# print model.summary()\n",
        "model.summary()"
      ],
      "execution_count": null,
      "outputs": []
    },
    {
      "cell_type": "markdown",
      "metadata": {
        "id": "5jjAUHaq3Lsg"
      },
      "source": [
        "## Compile Model\n",
        "\n",
        "Antes de poner a entrenar al modelo, es necesario realizar unas configuraciones adicionales. En particular, debemos especificar la función de pérdida o `loss function` que se optimizará durante el entrenamiento y el método de optimización como SGD o Adam.\n",
        "- https://keras.io/api/models/model_training_apis/\n",
        "- https://keras.io/api/optimizers/"
      ]
    },
    {
      "cell_type": "code",
      "metadata": {
        "id": "ebFJrNsx3OmA"
      },
      "source": [
        "from tensorflow.keras.optimizers import Adam\n",
        "\n",
        "# configurar optimizador Adam\n",
        "# https://keras.io/api/optimizers/adam/\n",
        "opt = Adam( learning_rate=1e-3 )\n",
        "\n",
        "# ---\n",
        "# compilar modelo siguiendo como función de pérdida\n",
        "# el error cuadrado medio\n",
        "model.compile(loss='mean_squared_error' , optimizer=opt, metrics=['mae'])"
      ],
      "execution_count": null,
      "outputs": []
    },
    {
      "cell_type": "markdown",
      "metadata": {
        "id": "iC0A5nTJ3Tso"
      },
      "source": [
        "## Model Training\n",
        "Hemos llegado a la parte final del proceso, para entrenar nuestro modelo debemos especificar los sets que utilizaremos para el proceso `(X_train, Y_train)`, la cantidad de `epochs` que durará el entrenamiento, y el `batch size` de muestras que se irán entregando al modelo a medida que este va iterativamente ajustando sus parámetros.\n",
        "\n",
        "Para entrenar `keras.Models` se utiliza el método `keras.Model.fit`, el cual aparte de iniciar y realizar la rutina de entrenamiento, retorna un registro `History`. Mediante `History.history` es posible acceder a la evolución de la función de pérdida durante el entrenamiento tanto sobre los datos de `train` como sobre los de `validation`."
      ]
    },
    {
      "cell_type": "code",
      "metadata": {
        "id": "2xPNb8sk3Y5_"
      },
      "source": [
        "from keras.callbacks import ModelCheckpoint\n",
        "from utils import plot_loss_function\n",
        "\n",
        "# realizar rutina de entrenamiento\n",
        "model_history = model.fit(X_train, Y_train,\n",
        "                          batch_size=32 , epochs=25 ,\n",
        "                          validation_data=(X_val, Y_val))\n",
        "\n",
        "# plot gráfico de función de pérdida\n",
        "plot_loss_function(model_history, figsize=(10,4))"
      ],
      "execution_count": null,
      "outputs": []
    },
    {
      "cell_type": "markdown",
      "metadata": {
        "id": "iwRV_vU73Ypn"
      },
      "source": [
        "## Model Evaluation\n",
        "Finalmente, una vez entrenado nuestro modelo debemos evaluar su desempeño. En este caso particular, debemos usar los datos que aislamos para `testing` `(X_test, Y_test)`. Para utilizar el `keras.Model` sobre nuevos datos de clasificación, conviene utilizar el método `keras.Sequential.predict`."
      ]
    },
    {
      "cell_type": "code",
      "metadata": {
        "id": "R5NdBs783yoY"
      },
      "source": [
        "from sklearn.metrics import mean_squared_error\n",
        "\n",
        "from utils import plot_classification_map\n",
        "from utils import plot_confusion_matrix\n",
        "\n",
        "# obtener predicciones de X_test con model.predict\n",
        "Y_pred = model.predict(X_test)\n",
        "Y_true = Y_test\n",
        "\n",
        "# calcular error mse de predicción\n",
        "mse = mean_squared_error(Y_true, Y_pred)\n",
        "print('testing mse: {:2.3f}'.format(mse))\n"
      ],
      "execution_count": null,
      "outputs": []
    },
    {
      "cell_type": "markdown",
      "metadata": {
        "id": "hDinownAqVb0"
      },
      "source": [
        "Una forma de visualizar el proceso flujo de información a lo largo del modelo, es extraer los feature maps de cada una de las capas convolucionales. Con estos, se puede ver que tipo de features extrae cada capa y como varía a lo largo que se avanza en el modelo."
      ]
    },
    {
      "cell_type": "code",
      "metadata": {
        "id": "lVku7HQcIaEt"
      },
      "source": [
        "from keras.models import Model\n",
        "from utils import plot_img_samples\n",
        "\n",
        "for j in range(11):\n",
        "  # ---\n",
        "  # compilar submodelo de la CNN\n",
        "  input = model.input\n",
        "  CNN_output = model.layers[j].output\n",
        "  fmap_model = Model(input, CNN_output)\n",
        "\n",
        "  # obtener dimensiones de los feature maps\n",
        "  n_filters = CNN_output.shape[3]\n",
        "  height, width = CNN_output.shape[1:3]\n",
        "\n",
        "  # ---\n",
        "  # extraer CNN feature maps\n",
        "  img = X_train[50, :, :, :]\n",
        "  x = np.reshape(img, (1, 128, 128, 3))\n",
        "  CNN_fmap = fmap_model.predict(x)\n",
        "\n",
        "  # reordenar feature maps a (feature_maps, height, width)\n",
        "  fmaps = np.zeros( (n_filters, height, width) )\n",
        "  for i in range( n_filters ):\n",
        "    fmap = CNN_fmap[:, :, :, i]\n",
        "    fmaps[i, :, :] = np.reshape( fmap, (1, height, width) )\n",
        "\n",
        "  # visulizar fmaps mediante plot_img_samples\n",
        "  plot_img_samples(fmaps, range(30), grid=(3, 10),\n",
        "                  figsize=(15,15),title='CNN feature maps: ' + CNN_output.name)\n"
      ],
      "execution_count": null,
      "outputs": []
    }
  ]
}